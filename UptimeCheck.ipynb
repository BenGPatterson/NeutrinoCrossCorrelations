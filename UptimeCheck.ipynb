{
 "cells": [
  {
   "cell_type": "code",
   "execution_count": 1,
   "id": "0dddd1e5",
   "metadata": {},
   "outputs": [],
   "source": [
    "import os, os.path\n",
    "import astropy.table as tbl\n",
    "import numpy as np"
   ]
  },
  {
   "cell_type": "code",
   "execution_count": 2,
   "id": "ffbd54e5",
   "metadata": {},
   "outputs": [],
   "source": [
    "IC10EvDir = 'IceCube_dataset10/events' #directory containing 10 year IceCube events data\n",
    "IC10EventKW = 'exp.csv' #10 year IceCube events keyword\n",
    "IC10UpDir = 'IceCube_dataset10/uptime' #directory containing 10 year IceCube uptime data\n",
    "IC10UptimeKW = 'exp.csv' #10 year IceCube uptime keyword\n",
    "ICOrderFiles = [0,1,2,6,4,3,5,9,8,7] #converts alphanumeric order to chronological order"
   ]
  },
  {
   "cell_type": "code",
   "execution_count": 3,
   "id": "df223a86",
   "metadata": {},
   "outputs": [],
   "source": [
    "#finds filenames of all IceCube files, sorted alphanumerically\n",
    "IC10EventFilenames = sorted(os.listdir(IC10EvDir))\n",
    "IC10UptimeFilenames = sorted(os.listdir(IC10UpDir))\n",
    "\n",
    "#selects event data IceCube files\n",
    "IC10EvFilenamesUnorder = []\n",
    "for i in IC10EventFilenames: #only appends files to corresponding lists if keywords contained in filenames\n",
    "    if IC10EventKW in i:\n",
    "        IC10EvFilenamesUnorder.append(i)\n",
    "\n",
    "#selects uptime data IceCube files\n",
    "IC10UpFilenamesUnorder = []\n",
    "for i in IC10UptimeFilenames: #only appends files to corresponding lists if keywords contained in filenames\n",
    "    if IC10UptimeKW in i:\n",
    "        IC10UpFilenamesUnorder.append(i)\n",
    "        \n",
    "#changes ordering of event data files to chronological \n",
    "IC10EvFilenames = list(str(' ' * len(IC10EvFilenamesUnorder)))\n",
    "for i in range(len(IC10EvFilenames)):\n",
    "    IC10EvFilenames[i] = IC10EvFilenamesUnorder[ICOrderFiles[i]]\n",
    "    \n",
    "#changes ordering of uptime data files to chronological\n",
    "IC10UpFilenames = list(str(' ' * len(IC10UpFilenamesUnorder)))\n",
    "for i in range(len(IC10UpFilenames)):\n",
    "    IC10UpFilenames[i] = IC10UpFilenamesUnorder[ICOrderFiles[i]]\n",
    "#these only work if filenames have been unaltered from default, otherwise ICOrderFiles will be wrong"
   ]
  },
  {
   "cell_type": "code",
   "execution_count": 4,
   "id": "8e7be2ac",
   "metadata": {},
   "outputs": [],
   "source": [
    "#loads in event and uptime data tables\n",
    "IC10Ev = []\n",
    "IC10Up = []\n",
    "for i in range(len(IC10EvFilenames)):\n",
    "    IC10Ev.append(tbl.Table.read(IC10EvDir + '/' + IC10EvFilenames[i], format = 'ascii'))\n",
    "    IC10Up.append(tbl.Table.read(IC10UpDir + '/' + IC10UpFilenames[i], format = 'ascii'))"
   ]
  },
  {
   "cell_type": "code",
   "execution_count": 5,
   "id": "91cccc36",
   "metadata": {},
   "outputs": [
    {
     "name": "stdout",
     "output_type": "stream",
     "text": [
      "IC40_exp.csv checked\n",
      "IC59_exp.csv checked\n",
      "Bad time found in IC79_exp.csv at 55506.37316921\n",
      "IC79_exp.csv checked\n",
      "IC86_I_exp.csv checked\n",
      "IC86_II_exp.csv checked\n",
      "IC86_III_exp.csv checked\n",
      "IC86_IV_exp.csv checked\n",
      "IC86_V_exp.csv checked\n",
      "IC86_VI_exp.csv checked\n",
      "IC86_VII_exp.csv checked\n",
      "Total bad times found: 1\n"
     ]
    }
   ],
   "source": [
    "#counts number of events found that are not in valid uptimes\n",
    "BadTimes = 0\n",
    "\n",
    "for i in range(len(IC10Ev)): #loops through files\n",
    "    \n",
    "    for j in IC10Ev[i]['MJD[days]']: #loops through events in files\n",
    "        \n",
    "        ValidUptime = False\n",
    "        \n",
    "        for k in range(len(IC10Up[i])): #loops through uptime windows\n",
    "            \n",
    "            if j <= IC10Up[i]['MJD_stop[days]'][k]: #first entry where time is less than uptime upper bound\n",
    "                if j >= IC10Up[i]['MJD_start[days]'][k]: #checks if also above lower bound\n",
    "                    ValidUptime = True #sets boolean to true if event found inside uptime window\n",
    "                break #if not in this window, not in any window\n",
    "\n",
    "        if ValidUptime == False:\n",
    "            print(f'Bad time found in {IC10EvFilenames[i]} at {j}') #prints when bad time found\n",
    "            BadTimes += 1\n",
    "            \n",
    "    print(f'{IC10EvFilenames[i]} checked') #progress bar\n",
    "    \n",
    "print(f'Total bad times found: {BadTimes}')\n",
    "        "
   ]
  },
  {
   "cell_type": "code",
   "execution_count": null,
   "id": "4782b24b",
   "metadata": {},
   "outputs": [],
   "source": []
  }
 ],
 "metadata": {
  "kernelspec": {
   "display_name": "Python 3 (ipykernel)",
   "language": "python",
   "name": "python3"
  },
  "language_info": {
   "codemirror_mode": {
    "name": "ipython",
    "version": 3
   },
   "file_extension": ".py",
   "mimetype": "text/x-python",
   "name": "python",
   "nbconvert_exporter": "python",
   "pygments_lexer": "ipython3",
   "version": "3.9.12"
  }
 },
 "nbformat": 4,
 "nbformat_minor": 5
}
