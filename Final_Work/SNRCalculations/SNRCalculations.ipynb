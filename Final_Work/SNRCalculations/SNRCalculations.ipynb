{
 "cells": [
  {
   "cell_type": "code",
   "execution_count": 1,
   "id": "8f65d2b9",
   "metadata": {},
   "outputs": [],
   "source": [
    "import numpy as np\n",
    "import matplotlib.pyplot as plt\n",
    "import sacc\n",
    "from scipy.stats import chi2\n",
    "from scipy.special import erfinv"
   ]
  },
  {
   "cell_type": "code",
   "execution_count": 2,
   "id": "4854220e",
   "metadata": {},
   "outputs": [],
   "source": [
    "nEbins = 3 # Number of energy bins\n",
    "nzbins = 6 # Number of redshift bins\n",
    "ncls = 7 # Number of cls per power spectra\n",
    "sacc_path = 'xCell_output/real_data2/output/cls_cov.fits' # File containing xCell power spectra data\n",
    "combEbins = True # Whether to combine redshift bins for each energy bin"
   ]
  },
  {
   "cell_type": "code",
   "execution_count": 3,
   "id": "490f292e",
   "metadata": {},
   "outputs": [],
   "source": [
    "# Loads in data, only keeps first 7 data points to match previous calculations\n",
    "s = sacc.Sacc.load_fits(sacc_path)\n",
    "s.remove_selection(ell__gt=352)"
   ]
  },
  {
   "cell_type": "code",
   "execution_count": 4,
   "id": "651df933",
   "metadata": {},
   "outputs": [],
   "source": [
    "# Finds relevant indices in sacc object\n",
    "indices = []\n",
    "for i in range(nEbins):\n",
    "    indices.append([])\n",
    "    for j in range(nzbins):\n",
    "        ind_here = s.indices('cl_00', (f'IceCube__{i}', f'LOWZ__{j}'))\n",
    "        if combEbins:\n",
    "            indices[i] += list(ind_here)\n",
    "        else:\n",
    "            indices[i].append(list(ind_here))\n",
    "indices = np.array(indices)\n",
    "\n",
    "# Gets ells, cls, covs, and inverse covs\n",
    "ells, _ = s.get_ell_cl('cl_00', 'IceCube__0', 'LOWZ__0')\n",
    "cov_total = s.covariance.covmat\n",
    "if combEbins:\n",
    "    cls = np.array([s.mean[ind] for ind in indices])\n",
    "    covs = np.array([cov_total[ind][:, ind] for ind in indices])\n",
    "    icovs = np.array([np.linalg.inv(cov) for cov in covs])\n",
    "else:\n",
    "    cls = []\n",
    "    covs = []\n",
    "    icovs = []\n",
    "    for i in range(nEbins):\n",
    "        cls.append([])\n",
    "        covs.append([])\n",
    "        icovs.append([])\n",
    "        for j in range(nzbins):\n",
    "            ind = indices[i,j]\n",
    "            cls[i].append(s.mean[ind])\n",
    "            covs[i].append(cov_total[ind][:, ind])\n",
    "            icovs[i].append(np.linalg.inv(covs[i][j]))\n",
    "    cls = np.array(cls)\n",
    "    covs = np.array(covs)\n",
    "    icovs = np.array(icovs)     "
   ]
  },
  {
   "cell_type": "code",
   "execution_count": 5,
   "id": "eab5d3b6",
   "metadata": {},
   "outputs": [
    {
     "name": "stdout",
     "output_type": "stream",
     "text": [
      "[29.356239164545723, 29.57432637424045, 42.78872904218106]\n"
     ]
    }
   ],
   "source": [
    "# Calculates chi2\n",
    "chi2vals = []\n",
    "for i in range(nEbins):\n",
    "    if combEbins:\n",
    "        chi2vals.append(np.dot(cls[i], np.dot(icovs[i], cls[i])))\n",
    "    else:\n",
    "        chi2vals.append([])\n",
    "        for j in range(nzbins):\n",
    "            chi2vals[i].append(np.dot(cls[i][j], np.dot(icovs[i][j], cls[i][j])))\n",
    "print(chi2vals)"
   ]
  },
  {
   "cell_type": "code",
   "execution_count": 6,
   "id": "12d325be",
   "metadata": {},
   "outputs": [
    {
     "data": {
      "text/plain": [
       "<matplotlib.legend.Legend at 0x7f88c084eb20>"
      ]
     },
     "execution_count": 6,
     "metadata": {},
     "output_type": "execute_result"
    },
    {
     "data": {
      "image/png": "[encoded data removed]",
      "text/plain": [
       "<Figure size 432x288 with 1 Axes>"
      ]
     },
     "metadata": {
      "needs_background": "light"
     },
     "output_type": "display_data"
    }
   ],
   "source": [
    "# Plots chi2 distribution for dof = 42\n",
    "plot_dof = 42\n",
    "x = np.linspace(chi2.ppf(0.001, plot_dof),\n",
    "                chi2.ppf(0.999, plot_dof), 100)\n",
    "plt.plot(x, chi2.pdf(x, plot_dof), label='$\\chi^2$ pdf')\n",
    "plt.axvline(plot_dof, ls='--', c='k', label=f'd.o.f. = {plot_dof}')\n",
    "plt.xlabel('$\\chi^2$')\n",
    "plt.ylabel('Probability Density')\n",
    "plt.ylim(0,0.05)\n",
    "plt.legend()\n",
    "\n",
    "#plt.savefig('Chi2Dist.pdf')"
   ]
  },
  {
   "cell_type": "code",
   "execution_count": 7,
   "id": "af8913e2",
   "metadata": {},
   "outputs": [
    {
     "data": {
      "text/plain": [
       "<matplotlib.legend.Legend at 0x7f88d17ef5e0>"
      ]
     },
     "execution_count": 7,
     "metadata": {},
     "output_type": "execute_result"
    },
    {
     "data": {
      "image/png": "[encoded data removed]",
      "text/plain": [
       "<Figure size 432x288 with 1 Axes>"
      ]
     },
     "metadata": {
      "needs_background": "light"
     },
     "output_type": "display_data"
    }
   ],
   "source": [
    "# Calculates pte and SNR\n",
    "dof = ncls\n",
    "if combEbins:\n",
    "    dof *= nzbins\n",
    "    \n",
    "pte = []\n",
    "SNR = []\n",
    "for i in range(nEbins):\n",
    "    if combEbins:\n",
    "        pte.append(1-chi2.cdf(chi2vals[i], dof))\n",
    "        expc_frac_inside = 1-2*pte[i]\n",
    "        sigma = np.sqrt(2)*erfinv(expc_frac_inside)\n",
    "        SNR.append(sigma)\n",
    "    else:\n",
    "        pte.append([])\n",
    "        SNR.append([])\n",
    "        for j in range(nzbins):\n",
    "            pte[i].append(1-chi2.cdf(chi2vals[i][j], dof))\n",
    "            expc_frac_inside = 1-2*pte[i][j]\n",
    "            sigma = np.sqrt(2)*erfinv(expc_frac_inside)\n",
    "            SNR[i].append(sigma)\n",
    "\n",
    "# Display PTEs\n",
    "plt.scatter(np.arange(len(np.array(pte).flatten())), np.array(pte).flatten())\n",
    "plt.ylim(0,1)\n",
    "if combEbins:\n",
    "    plt.xlabel('Energy bin')\n",
    "else:\n",
    "    plt.xlabel('Arbitrary units')\n",
    "plt.ylabel('PTE')\n",
    "plt.axhline(1-chi2.cdf(dof, dof), linestyle='--', label='dof')\n",
    "plt.legend()"
   ]
  },
  {
   "cell_type": "code",
   "execution_count": 8,
   "id": "34ca506e",
   "metadata": {},
   "outputs": [
    {
     "data": {
      "text/plain": [
       "<matplotlib.lines.Line2D at 0x7f88a1aeff40>"
      ]
     },
     "execution_count": 8,
     "metadata": {},
     "output_type": "execute_result"
    },
    {
     "data": {
      "image/png": "[encoded data removed]",
      "text/plain": [
       "<Figure size 432x288 with 1 Axes>"
      ]
     },
     "metadata": {
      "needs_background": "light"
     },
     "output_type": "display_data"
    }
   ],
   "source": [
    "# Display SNRs\n",
    "plt.bar(np.arange(len(np.array(SNR).flatten())), np.array(SNR).flatten())\n",
    "if combEbins:\n",
    "    plt.xlabel('Energy bin')\n",
    "    plt.xticks(np.arange(nEbins), labels=np.arange(nEbins))\n",
    "else:\n",
    "    plt.xlabel('Arbitrary units')\n",
    "plt.ylabel('$\\sigma$')\n",
    "plt.axhline(0, linestyle='--')\n",
    "#plt.savefig(f'SNRcalcsCombE{combEbins}.pdf')"
   ]
  },
  {
   "cell_type": "code",
   "execution_count": null,
   "id": "44b205f7",
   "metadata": {},
   "outputs": [],
   "source": []
  },
  {
   "cell_type": "code",
   "execution_count": null,
   "id": "7f45d7b4",
   "metadata": {},
   "outputs": [],
   "source": []
  },
  {
   "cell_type": "code",
   "execution_count": null,
   "id": "ba889b64",
   "metadata": {},
   "outputs": [],
   "source": []
  }
 ],
 "metadata": {
  "kernelspec": {
   "display_name": "Python 3 (ipykernel)",
   "language": "python",
   "name": "python3"
  },
  "language_info": {
   "codemirror_mode": {
    "name": "ipython",
    "version": 3
   },
   "file_extension": ".py",
   "mimetype": "text/x-python",
   "name": "python",
   "nbconvert_exporter": "python",
   "pygments_lexer": "ipython3",
   "version": "3.9.12"
  }
 },
 "nbformat": 4,
 "nbformat_minor": 5
}
