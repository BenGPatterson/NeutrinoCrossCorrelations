{
 "cells": [
  {
   "cell_type": "markdown",
   "id": "d2a5b1bd",
   "metadata": {},
   "source": [
    "# Intro"
   ]
  },
  {
   "cell_type": "code",
   "execution_count": 1,
   "id": "b0dab3c4",
   "metadata": {},
   "outputs": [],
   "source": [
    "import numpy as np\n",
    "import matplotlib.pyplot as plt\n",
    "import sacc\n",
    "import pyccl as ccl\n",
    "import astropy.table as tbl\n",
    "import os\n",
    "import emcee\n",
    "from scipy.optimize import minimize\n",
    "import corner\n",
    "import pickle"
   ]
  },
  {
   "cell_type": "code",
   "execution_count": 2,
   "id": "db634468",
   "metadata": {},
   "outputs": [],
   "source": [
    "nzbins = 12 # Number of galaxy redshift bins\n",
    "nls = 7 # Number of cl data points\n",
    "\n",
    "rker_z_min = 0.002 # Minimum redshift for neutrino radial kernel\n",
    "rker_z_max = 4 # Maximum redshift for neutrino radial kernel\n",
    "rker_z_n = 1024 # Number of redshift/radial distance values in neutrino radial kernel\n",
    "gal_z_dir = ['../GalZDist', '../GalZDist_2']  # Directory containing redshift distributions of each galaxy map\n",
    "bzs = [1.182, 1.086, 1.126, 1.144, 1.206, 1.548, \n",
    "       1.13, 1.40, 1.35, 1.77, 2.1, 2.5] # Bias values for each galaxy map\n",
    "\n",
    "alpha_val = -1 # Fixed alpha value\n",
    "write_to_file = True # Whether to write results to file 'A_constraints.txt'"
   ]
  },
  {
   "cell_type": "markdown",
   "id": "12919e89",
   "metadata": {},
   "source": [
    "# xCell Power Spectra (Data)"
   ]
  },
  {
   "cell_type": "code",
   "execution_count": 3,
   "id": "cf800b0a",
   "metadata": {},
   "outputs": [],
   "source": [
    "# Loads in data, only keeps first 7 data points to match previous calculations\n",
    "def load_data(path):\n",
    "    s = sacc.Sacc.load_fits(path)\n",
    "    s.remove_selection(ell__gt=352)\n",
    "    return s"
   ]
  },
  {
   "cell_type": "code",
   "execution_count": 4,
   "id": "029c7540",
   "metadata": {
    "code_folding": []
   },
   "outputs": [],
   "source": [
    "def get_sacc_info(s, include_first_ell):\n",
    "    \n",
    "    # Finds relevant indices in sacc object\n",
    "    indices = []\n",
    "    for i in range(nzbins):\n",
    "        ind_here = s.indices('cl_00', (f'LOWZ__{i}', 'IceCubeY10'))\n",
    "        if include_first_ell:\n",
    "            indices.append(list(ind_here))\n",
    "        else:\n",
    "            indices.append(list(ind_here)[1:])\n",
    "    indices = np.array(indices)\n",
    "\n",
    "    # Gets ells, cls, covs, and inverse covs\n",
    "    ells, _ = s.get_ell_cl('cl_00', 'LOWZ__0', 'IceCubeY10')\n",
    "    if not include_first_ell:\n",
    "        ells = ells[1:]\n",
    "    cov_total = s.covariance.covmat\n",
    "    cls = []\n",
    "    covs = []\n",
    "    icovs = []\n",
    "    for i in range(nzbins):\n",
    "        ind = indices[i]\n",
    "        cls.append(s.mean[ind])\n",
    "        covs.append(np.array(cov_total[ind][:, ind]))\n",
    "        icovs.append(np.array(np.linalg.inv(covs[i])))\n",
    "    cls = np.array(cls)\n",
    "    covs = np.array(covs)\n",
    "    icovs = np.array(icovs)\n",
    "\n",
    "    # Finds relevant indices in sacc object\n",
    "    indices = []\n",
    "    for i in range(nzbins):\n",
    "        ind_here = s.indices('cl_00', (f'LOWZ__{i}', 'IceCubeY10'))\n",
    "        if include_first_ell:\n",
    "            indices += list(ind_here)\n",
    "        else:\n",
    "            indices += list(ind_here)[1:]\n",
    "    indices = np.array(indices)\n",
    "\n",
    "    # Finds quantities for combined bin\n",
    "    cls_comb = np.array(s.mean[indices])\n",
    "    cov_total = s.covariance.covmat\n",
    "    covs_comb = np.array(cov_total[indices][:, indices])\n",
    "    icovs_comb = np.array(np.linalg.inv(covs_comb))\n",
    "    return ells, cls_comb, icovs_comb, cls, icovs"
   ]
  },
  {
   "cell_type": "markdown",
   "id": "b4813635",
   "metadata": {},
   "source": [
    "# Theoretical Power Spectra (Model)"
   ]
  },
  {
   "cell_type": "code",
   "execution_count": 5,
   "id": "2623f68a",
   "metadata": {},
   "outputs": [],
   "source": [
    "# Sets cosmological model\n",
    "cosmo = ccl.CosmologyVanillaLCDM(transfer_function='eisenstein_hu')"
   ]
  },
  {
   "cell_type": "code",
   "execution_count": 6,
   "id": "901dccf7",
   "metadata": {},
   "outputs": [
    {
     "data": {
      "text/plain": [
       "[None, None]"
      ]
     },
     "execution_count": 6,
     "metadata": {},
     "output_type": "execute_result"
    }
   ],
   "source": [
    "# Loads in galaxy redshift distributions into astropy tables\n",
    "gal_z_filenames = sorted(os.listdir(gal_z_dir[0]))\n",
    "\n",
    "gal_z_dist = []\n",
    "for i in gal_z_filenames:\n",
    "    gal_z_dist.append(tbl.Table.read(gal_z_dir[0] + '/' + i, format = 'ascii'))\n",
    "\n",
    "[gal_z_dist.append(tbl.Table.read(gal_z_dir[1]+f'/dndz_DELS__{i}_nuX.txt', \n",
    "                                  format = 'ascii')) for i in range(4)]\n",
    "[gal_z_dist.append(tbl.Table.read(gal_z_dir[1]+f'/dndz_SDSS__QSO{i}_nuX.txt', \n",
    "                                  format = 'ascii')) for i in range(2)]"
   ]
  },
  {
   "cell_type": "code",
   "execution_count": 7,
   "id": "b9cd23d6",
   "metadata": {},
   "outputs": [],
   "source": [
    "# Creates tracer for each galaxy redshift bin\n",
    "gal_tracers = []\n",
    "for i in range(nzbins):\n",
    "    z = np.array(gal_z_dist[i]['col1'])\n",
    "    nz = np.array(gal_z_dist[i]['col2'])\n",
    "    bz = np.full(len(z), bzs[i])\n",
    "    gal_tracers.append(ccl.NumberCountsTracer(cosmo, has_rsd=False, \n",
    "                                              dndz=(z, nz), bias=(z, bz)))"
   ]
  },
  {
   "cell_type": "code",
   "execution_count": 8,
   "id": "67372bc7",
   "metadata": {},
   "outputs": [],
   "source": [
    "# Finds array of radial distances (chi) of radial kernel\n",
    "chi_min = ccl.comoving_radial_distance(cosmo, 1./(1+rker_z_min))\n",
    "chi_max = ccl.comoving_radial_distance(cosmo, 1./(1+rker_z_max))\n",
    "chi_arr = np.linspace(chi_min, chi_max, rker_z_n)\n",
    "\n",
    "# Converts radial distance array to inverse scale factor array (i.e. 1+z)\n",
    "inv_a_arr = 1/ccl.scale_factor_of_chi(cosmo, chi_arr)"
   ]
  },
  {
   "cell_type": "code",
   "execution_count": 9,
   "id": "a6377e25",
   "metadata": {},
   "outputs": [],
   "source": [
    "# Generates neutrino tracer\n",
    "def generate_nu_tracer(cosmo, A, alpha=alpha_val, \n",
    "                       inv_a_arr=inv_a_arr):\n",
    "    # cosmo - cosmological model to use\n",
    "    # A - constant of proportionality in neutrino radial kernel\n",
    "    # alpha - index of power in neutrino radial kernel\n",
    "    # z_min - minimum redshift for neutrino radial kernel\n",
    "    # z_max - maximum redshift for neutrino radial kernel\n",
    "    # nchi - number of redshift/radial distance values in neutrino radial kernel\n",
    "\n",
    "    # Uses chosen A and alpha to find final array of radial kernel\n",
    "    rker_arr = A*(inv_a_arr)**alpha\n",
    "\n",
    "    # Adds radial kernel to tracer\n",
    "    nu_tracer = ccl.Tracer()\n",
    "    nu_tracer.add_tracer(cosmo, kernel = (chi_arr, rker_arr))\n",
    "    return nu_tracer"
   ]
  },
  {
   "cell_type": "code",
   "execution_count": 10,
   "id": "f7008ff0",
   "metadata": {},
   "outputs": [],
   "source": [
    "# Finds theoretical/model power spectra using neutrino radial kernel of the form A*(1+z)^alpha\n",
    "def model(ells, A, zbin, alpha=alpha_val):\n",
    "    # A - constant of proportionality in neutrino radial kernel\n",
    "    # zbin - which redshift bin to use\n",
    "    # alpha - index of power in neutrino radial kernel\n",
    "    \n",
    "    nu_tracer = generate_nu_tracer(cosmo, A, alpha)\n",
    "    if zbin == 'all':\n",
    "        cl_cross = []\n",
    "        for i in gal_tracers:\n",
    "            cl_cross += list(ccl.angular_cl(cosmo, nu_tracer, i, ells))\n",
    "    else:\n",
    "        cl_cross = ccl.angular_cl(cosmo, nu_tracer, gal_tracers[zbin], ells)\n",
    "    return np.array(cl_cross)"
   ]
  },
  {
   "cell_type": "markdown",
   "id": "c8d5b9d0",
   "metadata": {},
   "source": [
    "# Parameter Inference"
   ]
  },
  {
   "cell_type": "code",
   "execution_count": 11,
   "id": "6a980107",
   "metadata": {},
   "outputs": [],
   "source": [
    "# Finds mean and standard deviation\n",
    "def find_mean_std(ells, icov, d, zbin, alpha=alpha_val):\n",
    "    t = model(ells, 1, zbin, alpha)\n",
    "    tt = np.dot(t, np.dot(icov, t))\n",
    "    td = np.dot(t, np.dot(icov, d))\n",
    "    return td/tt, np.sqrt(1/tt)"
   ]
  },
  {
   "cell_type": "code",
   "execution_count": 12,
   "id": "a122e443",
   "metadata": {},
   "outputs": [],
   "source": [
    "def find_all_mean_std(ells, cls_comb, icovs_comb, cls, icovs):\n",
    "\n",
    "    # Finds mean and std of combined bin\n",
    "    A_mean_comb, A_std_comb = find_mean_std(ells, icovs_comb, cls_comb, 'all')\n",
    "\n",
    "    # Finds mean and std of each split bin\n",
    "    A_mean = np.empty(nzbins)\n",
    "    A_std = np.empty(nzbins)\n",
    "    for i in range(nzbins):\n",
    "        A_mean[i], A_std[i] = find_mean_std(ells, icovs[i], cls[i], i)\n",
    "    return A_mean_comb, A_std_comb, A_mean, A_std"
   ]
  },
  {
   "cell_type": "code",
   "execution_count": 13,
   "id": "6197aa5a",
   "metadata": {},
   "outputs": [],
   "source": [
    "# Writes results to output file\n",
    "def write_results(flux, include_first_ell, A_mean_comb, A_std_comb, A_mean, A_std):\n",
    "    with open('A_Constraints.txt', 'a+') as fp:\n",
    "        fp.write('\\n')\n",
    "        fp.write('\\n')\n",
    "        fp.write(flux+' '+str(include_first_ell)+' all '+str(A_mean_comb)+' '+str(A_std_comb))\n",
    "    for i in range(nzbins):\n",
    "        with open('A_Constraints.txt', 'a+') as fp:\n",
    "            fp.write('\\n')\n",
    "            fp.write('\\n')\n",
    "            fp.write(flux+' '+str(include_first_ell)+' '+str(i)+' '+str(A_mean[i])+' '+str(A_std[i]))"
   ]
  },
  {
   "cell_type": "code",
   "execution_count": 14,
   "id": "7c929319",
   "metadata": {},
   "outputs": [],
   "source": [
    "# Gets constraints\n",
    "def get_constraints(flux, include_first_ell, write_to_file=write_to_file):\n",
    "    path = f'cl_flux_{flux}.fits'\n",
    "    s = load_data(path)\n",
    "    ells, cls_comb, icovs_comb, cls, icovs = get_sacc_info(s, include_first_ell)\n",
    "    A_mean_comb, A_std_comb, A_mean, A_std = find_all_mean_std(ells, cls_comb, icovs_comb, cls, icovs)\n",
    "    if write_to_file:\n",
    "        write_results(flux, include_first_ell, A_mean_comb, A_std_comb, A_mean, A_std)"
   ]
  },
  {
   "cell_type": "code",
   "execution_count": 15,
   "id": "ba4a192a",
   "metadata": {},
   "outputs": [],
   "source": [
    "if write_to_file:\n",
    "    # Deletes existing file\n",
    "    if os.path.exists('A_Constraints.txt'):\n",
    "        os.remove('A_Constraints.txt')\n",
    "\n",
    "    # Creates new file\n",
    "    with open('A_Constraints.txt', 'w') as fp:\n",
    "        fp.write('# Flux, l2, bin, A_mean, A_std')\n",
    "    \n",
    "get_constraints('number', True)\n",
    "get_constraints('number', False)\n",
    "get_constraints('energy', True)\n",
    "get_constraints('energy', False)"
   ]
  }
 ],
 "metadata": {
  "kernelspec": {
   "display_name": "Python 3 (ipykernel)",
   "language": "python",
   "name": "python3"
  },
  "language_info": {
   "codemirror_mode": {
    "name": "ipython",
    "version": 3
   },
   "file_extension": ".py",
   "mimetype": "text/x-python",
   "name": "python",
   "nbconvert_exporter": "python",
   "pygments_lexer": "ipython3",
   "version": "3.9.12"
  }
 },
 "nbformat": 4,
 "nbformat_minor": 5
}
