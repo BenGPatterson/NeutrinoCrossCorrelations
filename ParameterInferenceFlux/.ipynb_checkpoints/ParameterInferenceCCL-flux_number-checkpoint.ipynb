{
 "cells": [
  {
   "cell_type": "markdown",
   "id": "d2a5b1bd",
   "metadata": {},
   "source": [
    "# Intro"
   ]
  },
  {
   "cell_type": "code",
   "execution_count": 1,
   "id": "b0dab3c4",
   "metadata": {},
   "outputs": [],
   "source": [
    "import numpy as np\n",
    "import matplotlib.pyplot as plt\n",
    "import sacc\n",
    "import pyccl as ccl\n",
    "import astropy.table as tbl\n",
    "import os\n",
    "import emcee\n",
    "from scipy.optimize import minimize\n",
    "import corner\n",
    "import pickle"
   ]
  },
  {
   "cell_type": "code",
   "execution_count": 2,
   "id": "db634468",
   "metadata": {},
   "outputs": [],
   "source": [
    "nEbins = 1 # Number of energy bins\n",
    "nzbins = 6 # Number of galaxy redshift bins\n",
    "nls = 7 # Number of cl data points\n",
    "sacc_path = 'cl_flux_number.fits' # File containing sacc data\n",
    "\n",
    "rker_z_min = 0.002 # Minimum redshift for neutrino radial kernel\n",
    "rker_z_max = 0.6 # Maximum redshift for neutrino radial kernel\n",
    "rker_z_n = 1024 # Number of redshift/radial distance values in neutrino radial kernel\n",
    "gal_z_dir = '../GalZDist'  # Directory containing redshift distribuitons of each galaxy map\n",
    "bzs = [1.182, 1.086, 1.126, 1.144, 1.206, 1.548] # Bias values for each galaxy map from arxiv:1805.11525\n",
    "\n",
    "A_prior = 0.1 # Maximum absolute value of A in top-hat prior (not currently used)\n",
    "alpha_prior = 5 # Maximum absolute value of alpha in top-hat prior\n",
    "\n",
    "include_first_ell = True # Whether to include first data point\n",
    "\n",
    "fixed_alpha = True # Whether to fix alpha value\n",
    "npars = 2 # Number of free parameters in MCMC sampling\n",
    "if fixed_alpha:\n",
    "    alpha_val = -1 # Value to fix alpha at\n",
    "    npars = 1 # Number of parameters to use in MCMC sampling\n",
    "\n",
    "run_mcmc = True # Whether to run MCMC (True) or load pre-ran samplers from disk (False)\n",
    "mcmc_chain_dir = 'MCMCChains_fn' # Directory containing MCMC samplers\n",
    "nwalkers = 8 # Number of walkers in MCMC sampling\n",
    "nsamples = 10000 # Number of samples in MCMC sampling\n",
    "mcmc_plots_dir = 'MCMCPlots_fn' # Directory to save MCMC plots to\n",
    "\n",
    "perform_sing_test = False # Whether to perform tests on singular cross-correlation\n",
    "sing_test = [0,0] # Singular cross-correlation to test\n",
    "sing_A_prior = 0.1 # Maximum absolute value of A in top-hat prior\n",
    "sing_alpha_prior = 100 # Maximum absolute value of alpha in top-hat prior"
   ]
  },
  {
   "cell_type": "markdown",
   "id": "12919e89",
   "metadata": {},
   "source": [
    "# xCell Power Spectra (Data)"
   ]
  },
  {
   "cell_type": "code",
   "execution_count": 3,
   "id": "cf800b0a",
   "metadata": {},
   "outputs": [],
   "source": [
    "# Loads in data, only keeps first 7 data points to match previous calculations\n",
    "s = sacc.Sacc.load_fits(sacc_path)\n",
    "s.remove_selection(ell__gt=352)"
   ]
  },
  {
   "cell_type": "code",
   "execution_count": 4,
   "id": "27c5f6ea",
   "metadata": {},
   "outputs": [
    {
     "data": {
      "text/plain": [
       "[('LOWZ__0', 'IceCubeY10'),\n",
       " ('LOWZ__1', 'IceCubeY10'),\n",
       " ('LOWZ__2', 'IceCubeY10'),\n",
       " ('LOWZ__3', 'IceCubeY10'),\n",
       " ('LOWZ__4', 'IceCubeY10'),\n",
       " ('LOWZ__5', 'IceCubeY10')]"
      ]
     },
     "execution_count": 4,
     "metadata": {},
     "output_type": "execute_result"
    }
   ],
   "source": [
    "s.get_tracer_combinations()"
   ]
  },
  {
   "cell_type": "code",
   "execution_count": 5,
   "id": "029c7540",
   "metadata": {
    "code_folding": []
   },
   "outputs": [],
   "source": [
    "# Finds relevant indices in sacc object\n",
    "indices = []\n",
    "for i in range(nEbins):\n",
    "    indices.append([])\n",
    "    for j in range(nzbins):\n",
    "        ind_here = s.indices('cl_00', (f'LOWZ__{j}', 'IceCubeY10'))\n",
    "        indices[i] += list(ind_here)\n",
    "indices = np.array(indices)\n",
    "\n",
    "# Gets ells, cls, covs, and inverse covs\n",
    "ells, _ = s.get_ell_cl('cl_00', 'LOWZ__0', 'IceCubeY10')\n",
    "cls = np.array([s.mean[ind] for ind in indices])\n",
    "cov_total = s.covariance.covmat\n",
    "covs = np.array([cov_total[ind][:, ind] for ind in indices])\n",
    "icovs = np.array([np.linalg.inv(cov) for cov in covs])"
   ]
  },
  {
   "cell_type": "code",
   "execution_count": 6,
   "id": "066b1feb",
   "metadata": {},
   "outputs": [
    {
     "data": {
      "image/png": "[encoded data removed]",
      "text/plain": [
       "<Figure size 432x288 with 2 Axes>"
      ]
     },
     "metadata": {
      "needs_background": "light"
     },
     "output_type": "display_data"
    }
   ],
   "source": [
    "for cov in covs:\n",
    "    plt.figure()\n",
    "    r = cov/np.sqrt(np.diag(cov)[:, None]*np.diag(cov)[None, :])\n",
    "    plt.imshow(r)\n",
    "    plt.colorbar()"
   ]
  },
  {
   "cell_type": "markdown",
   "id": "b4813635",
   "metadata": {},
   "source": [
    "# Theoretical Power Spectra (Model)"
   ]
  },
  {
   "cell_type": "code",
   "execution_count": 7,
   "id": "2623f68a",
   "metadata": {},
   "outputs": [],
   "source": [
    "# Sets cosmological model\n",
    "cosmo = ccl.CosmologyVanillaLCDM(transfer_function='eisenstein_hu')"
   ]
  },
  {
   "cell_type": "code",
   "execution_count": 8,
   "id": "901dccf7",
   "metadata": {},
   "outputs": [],
   "source": [
    "# Loads in galaxy redshift distributions into astropy tables\n",
    "gal_z_filenames = sorted(os.listdir(gal_z_dir))\n",
    "\n",
    "gal_z_dist = []\n",
    "for i in gal_z_filenames:\n",
    "    gal_z_dist.append(tbl.Table.read(gal_z_dir + '/' + i, format = 'ascii'))"
   ]
  },
  {
   "cell_type": "code",
   "execution_count": 9,
   "id": "b9cd23d6",
   "metadata": {},
   "outputs": [],
   "source": [
    "# Creates tracer for each galaxy redshift bin\n",
    "gal_tracers = []\n",
    "for i in range(len(gal_z_dist)):\n",
    "    z = np.array(gal_z_dist[i]['col1'])\n",
    "    nz = np.array(gal_z_dist[i]['col2'])\n",
    "    bz = np.full(len(z), bzs[i])\n",
    "    gal_tracers.append(ccl.NumberCountsTracer(cosmo, has_rsd=False, \n",
    "                                              dndz=(z, nz), bias=(z, bz)))"
   ]
  },
  {
   "cell_type": "code",
   "execution_count": 10,
   "id": "67372bc7",
   "metadata": {},
   "outputs": [],
   "source": [
    "# Finds array of radial distances (chi) of radial kernel\n",
    "chi_min = ccl.comoving_radial_distance(cosmo, 1./(1+rker_z_min))\n",
    "chi_max = ccl.comoving_radial_distance(cosmo, 1./(1+rker_z_max))\n",
    "chi_arr = np.linspace(chi_min, chi_max, rker_z_n)\n",
    "\n",
    "# Converts radial distance array to inverse scale factor array (i.e. 1+z)\n",
    "inv_a_arr = 1/ccl.scale_factor_of_chi(cosmo, chi_arr)"
   ]
  },
  {
   "cell_type": "code",
   "execution_count": 11,
   "id": "a6377e25",
   "metadata": {},
   "outputs": [],
   "source": [
    "# Generates neutrino tracer\n",
    "def generate_nu_tracer(cosmo, A, alpha=alpha_val, \n",
    "                       inv_a_arr=inv_a_arr):\n",
    "    # cosmo - cosmological model to use\n",
    "    # A - constant of proportionality in neutrino radial kernel\n",
    "    # alpha - index of power in neutrino radial kernel\n",
    "    # z_min - minimum redshift for neutrino radial kernel\n",
    "    # z_max - maximum redshift for neutrino radial kernel\n",
    "    # nchi - number of redshift/radial distance values in neutrino radial kernel\n",
    "\n",
    "    # Uses chosen A and alpha to find final array of radial kernel\n",
    "    rker_arr = A*(inv_a_arr)**alpha\n",
    "\n",
    "    # Adds radial kernel to tracer\n",
    "    nu_tracer = ccl.Tracer()\n",
    "    nu_tracer.add_tracer(cosmo, kernel = (chi_arr, rker_arr))\n",
    "    return nu_tracer"
   ]
  },
  {
   "cell_type": "code",
   "execution_count": 12,
   "id": "f7008ff0",
   "metadata": {},
   "outputs": [],
   "source": [
    "# Finds theoretical/model power spectra using neutrino radial kernel of the form A*(1+z)^alpha\n",
    "def model(A, alpha=alpha_val):\n",
    "    # A - constant of proportionality in neutrino radial kernel\n",
    "    # alpha - index of power in neutrino radial kernel\n",
    "    \n",
    "    nu_tracer = generate_nu_tracer(cosmo, A, alpha)\n",
    "    cl_cross = []\n",
    "    for i in gal_tracers:\n",
    "        cl_cross += list(ccl.angular_cl(cosmo, nu_tracer, i, ells))\n",
    "    return np.array(cl_cross)"
   ]
  },
  {
   "cell_type": "markdown",
   "id": "04160ccb",
   "metadata": {},
   "source": [
    "# Chi-squared"
   ]
  },
  {
   "cell_type": "code",
   "execution_count": 13,
   "id": "67d9ba7f",
   "metadata": {},
   "outputs": [],
   "source": [
    "# Finds chi squared of given data and model\n",
    "def chi2(p, d, icov, alpha_val=alpha_val):\n",
    "    # p - parameters to use in model\n",
    "    # d - cls of xCell data\n",
    "    # icov - inverse covariance matrix of xCell data\n",
    "    # alpha_val - fixed alpha value\n",
    "    \n",
    "    if len(p) == 2:\n",
    "        A, alpha = p\n",
    "    else:\n",
    "        A = p\n",
    "        alpha = alpha_val\n",
    "    # Flat priors\n",
    "    if np.fabs(alpha) > alpha_prior:\n",
    "        return np.inf\n",
    "    # Finds t and model\n",
    "    t = model(1, alpha)\n",
    "    mod = A*t\n",
    "    # Calculates volume prior\n",
    "    log_vol_prior = 0.5*np.log(np.dot(t, np.dot(icov, t)))\n",
    "    # Calculates chi2\n",
    "    r = (d-mod)\n",
    "    chi2 = np.dot(r, np.dot(icov, r))\n",
    "    \n",
    "    return chi2-2*log_vol_prior"
   ]
  },
  {
   "cell_type": "code",
   "execution_count": 14,
   "id": "2a171f69",
   "metadata": {},
   "outputs": [
    {
     "name": "stdout",
     "output_type": "stream",
     "text": [
      "0 [-0.00152577] 68.48032343188365\n"
     ]
    },
    {
     "data": {
      "image/png": "[encoded data removed]",
      "text/plain": [
       "<Figure size 432x288 with 1 Axes>"
      ]
     },
     "metadata": {
      "needs_background": "light"
     },
     "output_type": "display_data"
    }
   ],
   "source": [
    "# Finds 'best fit' values of A, alpha for each cross-correlation\n",
    "A_BF = np.empty(nEbins)\n",
    "alpha_BF = np.empty(nEbins)\n",
    "\n",
    "for i, (cl, icov, cov) in enumerate(zip(cls, icovs, covs)):\n",
    "    if fixed_alpha:\n",
    "        x = minimize(chi2, [1], args=(cl, icov), method='Powell').x\n",
    "        A_BF[i] = x\n",
    "        alpha_BF[i] = alpha_val\n",
    "    else:\n",
    "        x = minimize(chi2, [1, 1], args=(cl, icov), method='Powell').x\n",
    "        A_BF[i], alpha_BF[i] = x\n",
    "    print(i, x, chi2(x, cl, icov))\n",
    "    plt.figure()\n",
    "    plt.errorbar(np.arange(len(cl)), (cl-model(A_BF[i], alpha_BF[i]))/np.sqrt(np.diag(cov)),\n",
    "                 yerr=np.ones_like(cl), fmt='k.')"
   ]
  },
  {
   "cell_type": "markdown",
   "id": "4a3bebd2",
   "metadata": {},
   "source": [
    "# MCMC"
   ]
  },
  {
   "cell_type": "code",
   "execution_count": null,
   "id": "1c820726",
   "metadata": {
    "scrolled": true
   },
   "outputs": [],
   "source": [
    "if run_mcmc:\n",
    "    sampler = []\n",
    "    chain = []\n",
    "    \n",
    "    # For each cross-correlation\n",
    "    for i in range(nEbins):\n",
    "            \n",
    "        if fixed_alpha:\n",
    "            # Starting position of MCMC walkers\n",
    "            pos = (A_BF[i] +\n",
    "                   (1e-9) * np.random.randn(nwalkers, npars))\n",
    "        else:\n",
    "            # Starting position of MCMC walkers\n",
    "            pos = ([A_BF[i], alpha_BF[i]] +\n",
    "                   (1e-9, 1e-4) * np.random.randn(nwalkers, npars))\n",
    "\n",
    "        # Creates MCMC sampler\n",
    "        sampler.append(emcee.EnsembleSampler(nwalkers, npars, \n",
    "                                             lambda p: -0.5*chi2(p, cls[i], icovs[i])))\n",
    "\n",
    "        # Runs MCMC and gets resulting chain (discarding first 20%, 'burn in' phase)\n",
    "        sampler[i].run_mcmc(pos, nsamples)\n",
    "        chain.append(sampler[i].get_chain(flat=True, discard=int(0.2*nsamples)).T)\n",
    "        print(i)\n",
    "    \n",
    "    # Saves chains in pickle format\n",
    "    with open(mcmc_chain_dir + '/MCMCChains', 'wb') as fp:\n",
    "        pickle.dump(chain, fp)\n",
    "\n",
    "else:\n",
    "    # Loads chains from disk\n",
    "    with open(mcmc_chain_dir + '/MCMCChains', 'rb') as fp:\n",
    "        chain = pickle.load(fp)"
   ]
  },
  {
   "cell_type": "markdown",
   "id": "ab0f439e",
   "metadata": {},
   "source": [
    "# Plots"
   ]
  },
  {
   "cell_type": "code",
   "execution_count": null,
   "id": "8e181561",
   "metadata": {},
   "outputs": [],
   "source": [
    "# Creates grid of subfigures\n",
    "fig, axs = plt.subplots(nEbins, figsize = (6.4, 4.8*nEbins))\n",
    "\n",
    "# Calculates chains and plots 2D histogram\n",
    "for i in range(nEbins):\n",
    "    if fixed_alpha:\n",
    "        axs[i].hist(chain[i][0], bins=100, density=True)\n",
    "        axs[i].set_xlabel(r'$A$', fontsize=20);\n",
    "    else:\n",
    "        axs[i].scatter(chain[i][0], chain[i][1], c='k', s=1, alpha=0.1)\n",
    "        axs[i].plot(A_BF[i], alpha_BF[i], 'yo', label='Best fit')\n",
    "        axs[i].set_title(f'Energy bin {i}')\n",
    "        axs[i].set_ylabel(r'$\\alpha$', fontsize=20)\n",
    "        axs[i].set_xlabel(r'$A$', fontsize=20)\n",
    "        axs[i].legend()\n",
    "\n",
    "if fixed_alpha:\n",
    "    plt.savefig(mcmc_plots_dir + f'/fixed_alpha/MCMC1DHistogramfa{alpha_val}.pdf')\n",
    "else:\n",
    "    plt.savefig(mcmc_plots_dir + f'/MCMC2DHistogramAP{alpha_prior}.png')"
   ]
  },
  {
   "cell_type": "code",
   "execution_count": null,
   "id": "89344dfb",
   "metadata": {},
   "outputs": [],
   "source": [
    "# Plots corner plots for each cross-correlation\n",
    "for i in range(nEbins):\n",
    "    corner.corner(chain[i].T, labels=['A','alpha'], quantiles=[0.16,0.5,0.84], \n",
    "                  show_titles=True, title_kwargs={'fontsize': 12}, title_fmt='.6f')\n",
    "    if fixed_alpha:\n",
    "        plt.savefig(mcmc_plots_dir + f'/fixed_alpha/MCMCCornerfa{alpha_val}E{i}.pdf')\n",
    "    else:\n",
    "        plt.savefig(mcmc_plots_dir + f'/MCMCCornerAP{alpha_prior}E{i}.pdf') \n",
    "    plt.show()"
   ]
  },
  {
   "cell_type": "markdown",
   "id": "b1231a4e",
   "metadata": {},
   "source": [
    "# Single Cross-correlation Tests"
   ]
  },
  {
   "cell_type": "code",
   "execution_count": null,
   "id": "db52f410",
   "metadata": {},
   "outputs": [],
   "source": [
    "if perform_sing_test:\n",
    "    # Finds chi squared with priors baked in\n",
    "    def sing_chi2_with_prior(p, ells, d, icov, gal_tracer):\n",
    "        # p - parameters to use in model\n",
    "        # ells - l values to calculate cls for\n",
    "        # d - cls of xCell data\n",
    "        # icov - inverse covariance matrix of xCell data\n",
    "        # gal_tracer - galaxy tracer to use (i.e. which redshift bin)\n",
    "\n",
    "        # Only return non inf when mod(A) <= 0.1 and mod(alpha) <= 10\n",
    "        if (np.fabs(p[0]) > sing_A_prior) or (np.fabs(p[1]) > sing_alpha_prior):\n",
    "            return np.inf\n",
    "        return chi2(p, ells, d, icov, gal_tracer)"
   ]
  },
  {
   "cell_type": "code",
   "execution_count": null,
   "id": "9c891491",
   "metadata": {
    "code_folding": []
   },
   "outputs": [],
   "source": [
    "if perform_sing_test:\n",
    "    # Starting position of walkers\n",
    "    sing_pos = ([A_BF[sing_test[0], sing_test[1]], alpha_BF[sing_test[0], sing_test[1]]] +\n",
    "                       0.001 * np.random.randn(nwalkers, npars))\n",
    "\n",
    "    # Creates sampler\n",
    "    sing_sampler = emcee.EnsembleSampler(nwalkers, npars, \n",
    "                                         lambda p: -0.5*sing_chi2_with_prior(p, xcell_l[sing_test[0], sing_test[1]], \n",
    "                                                                                xcell_cl[sing_test[0], sing_test[1]], \n",
    "                                                                                xcell_icov[sing_test[0], sing_test[1]],\n",
    "                                                                                gal_tracers[sing_test[1]]))\n",
    "\n",
    "    # Runs MCMC and gets resulting chain (discarding first 20%, 'burn in' phase)\n",
    "    sing_sampler.run_mcmc(sing_pos, nsamples)\n",
    "    sing_chain = sing_sampler.get_chain(flat=True, discard=int(0.2*nsamples)).T\n"
   ]
  },
  {
   "cell_type": "code",
   "execution_count": null,
   "id": "22de8dcf",
   "metadata": {},
   "outputs": [],
   "source": [
    "if perform_sing_test:\n",
    "    # Plots 2D histogram and corner plot\n",
    "    plt.scatter(sing_chain[0], sing_chain[1], c='k', s=1, alpha=0.1)\n",
    "    plt.plot(A_BF[sing_test[0], sing_test[1]], alpha_BF[sing_test[0], sing_test[1]], 'yo', label='Best fit')\n",
    "    plt.title(f'Energy bin {sing_test[0]}, redshift bin {sing_test[1]}')\n",
    "    plt.ylabel(r'$\\alpha$', fontsize=20)\n",
    "    plt.xlabel(r'$A$', fontsize=20)\n",
    "    plt.legend()\n",
    "    plt.savefig(MCMCPlots + '/MCMCSing2DHist.pdf')\n",
    "    plt.show()\n",
    "\n",
    "    corner.corner(sing_chain.T, labels=['A','alpha'], quantiles=[0.16,0.5,0.84], \n",
    "                  show_titles=True, title_kwargs={'fontsize': 12}, title_fmt='.6f')\n",
    "    plt.savefig(mcmc_plots_dir + '/MCMCSingCorner.pdf')\n",
    "    plt.show()"
   ]
  },
  {
   "cell_type": "code",
   "execution_count": null,
   "id": "8cc924a7",
   "metadata": {},
   "outputs": [],
   "source": []
  }
 ],
 "metadata": {
  "kernelspec": {
   "display_name": "Python 3 (ipykernel)",
   "language": "python",
   "name": "python3"
  },
  "language_info": {
   "codemirror_mode": {
    "name": "ipython",
    "version": 3
   },
   "file_extension": ".py",
   "mimetype": "text/x-python",
   "name": "python",
   "nbconvert_exporter": "python",
   "pygments_lexer": "ipython3",
   "version": "3.9.12"
  }
 },
 "nbformat": 4,
 "nbformat_minor": 5
}
