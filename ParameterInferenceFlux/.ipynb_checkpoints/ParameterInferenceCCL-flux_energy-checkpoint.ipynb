{
 "cells": [
  {
   "cell_type": "markdown",
   "id": "d2a5b1bd",
   "metadata": {},
   "source": [
    "# Intro"
   ]
  },
  {
   "cell_type": "code",
   "execution_count": 1,
   "id": "b0dab3c4",
   "metadata": {},
   "outputs": [],
   "source": [
    "import numpy as np\n",
    "import matplotlib.pyplot as plt\n",
    "import sacc\n",
    "import pyccl as ccl\n",
    "import astropy.table as tbl\n",
    "import os\n",
    "import emcee\n",
    "from scipy.optimize import minimize\n",
    "import corner\n",
    "import pickle"
   ]
  },
  {
   "cell_type": "code",
   "execution_count": 2,
   "id": "db634468",
   "metadata": {},
   "outputs": [],
   "source": [
    "nEbins = 1 # Number of energy bins\n",
    "nzbins = 6 # Number of galaxy redshift bins\n",
    "nls = 7 # Number of cl data points\n",
    "sacc_path = 'cl_flux_energy.fits' # File containing sacc data\n",
    "\n",
    "rker_z_min = 0.002 # Minimum redshift for neutrino radial kernel\n",
    "rker_z_max = 0.6 # Maximum redshift for neutrino radial kernel\n",
    "rker_z_n = 1024 # Number of redshift/radial distance values in neutrino radial kernel\n",
    "gal_z_dir = 'GalZDist'  # Directory containing redshift distribuitons of each galaxy map\n",
    "bzs = [1.182, 1.086, 1.126, 1.144, 1.206, 1.548] # Bias values for each galaxy map from arxiv:1805.11525\n",
    "\n",
    "A_prior = 0.1 # Maximum absolute value of A in top-hat prior (not currently used)\n",
    "alpha_prior = 5 # Maximum absolute value of alpha in top-hat prior\n",
    "\n",
    "fixed_alpha = True # Whether to fix alpha value\n",
    "npars = 2 # Number of free parameters in MCMC sampling\n",
    "if fixed_alpha:\n",
    "    alpha_val = -1 # Value to fix alpha at\n",
    "    npars = 1 # Number of parameters to use in MCMC sampling\n",
    "\n",
    "run_mcmc = True # Whether to run MCMC (True) or load pre-ran samplers from disk (False)\n",
    "mcmc_chain_dir = 'MCMCChains_fe' # Directory containing MCMC samplers\n",
    "nwalkers = 8 # Number of walkers in MCMC sampling\n",
    "nsamples = 10000 # Number of samples in MCMC sampling\n",
    "mcmc_plots_dir = 'MCMCPlots_fe' # Directory to save MCMC plots to\n",
    "\n",
    "perform_sing_test = False # Whether to perform tests on singular cross-correlation\n",
    "sing_test = [0,0] # Singular cross-correlation to test\n",
    "sing_A_prior = 0.1 # Maximum absolute value of A in top-hat prior\n",
    "sing_alpha_prior = 100 # Maximum absolute value of alpha in top-hat prior"
   ]
  },
  {
   "cell_type": "markdown",
   "id": "12919e89",
   "metadata": {},
   "source": [
    "# xCell Power Spectra (Data)"
   ]
  },
  {
   "cell_type": "code",
   "execution_count": 3,
   "id": "cf800b0a",
   "metadata": {},
   "outputs": [],
   "source": [
    "# Loads in data, only keeps first 7 data points to match previous calculations\n",
    "s = sacc.Sacc.load_fits(sacc_path)\n",
    "s.remove_selection(ell__gt=352)"
   ]
  },
  {
   "cell_type": "code",
   "execution_count": 4,
   "id": "a42cd5a6",
   "metadata": {},
   "outputs": [
    {
     "data": {
      "text/plain": [
       "[('LOWZ__0', 'IceCubeY10'),\n",
       " ('LOWZ__1', 'IceCubeY10'),\n",
       " ('LOWZ__2', 'IceCubeY10'),\n",
       " ('LOWZ__3', 'IceCubeY10'),\n",
       " ('LOWZ__4', 'IceCubeY10'),\n",
       " ('LOWZ__5', 'IceCubeY10')]"
      ]
     },
     "execution_count": 4,
     "metadata": {},
     "output_type": "execute_result"
    }
   ],
   "source": [
    "s.get_tracer_combinations()"
   ]
  },
  {
   "cell_type": "code",
   "execution_count": 5,
   "id": "029c7540",
   "metadata": {
    "code_folding": []
   },
   "outputs": [],
   "source": [
    "# Finds relevant indices in sacc object\n",
    "indices = []\n",
    "for i in range(nEbins):\n",
    "    indices.append([])\n",
    "    for j in range(nzbins):\n",
    "        ind_here = s.indices('cl_00', (f'LOWZ__{j}', 'IceCubeY10'))\n",
    "        indices[i] += list(ind_here)\n",
    "indices = np.array(indices)\n",
    "\n",
    "# Gets ells, cls, covs, and inverse covs\n",
    "ells, _ = s.get_ell_cl('cl_00', 'LOWZ__0', 'IceCubeY10')\n",
    "cls = np.array([s.mean[ind] for ind in indices])\n",
    "cov_total = s.covariance.covmat\n",
    "covs = np.array([cov_total[ind][:, ind] for ind in indices])\n",
    "icovs = np.array([np.linalg.inv(cov) for cov in covs])"
   ]
  },
  {
   "cell_type": "code",
   "execution_count": 6,
   "id": "066b1feb",
   "metadata": {},
   "outputs": [
    {
     "data": {
      "image/png": "[encoded data removed]",
      "text/plain": [
       "<Figure size 432x288 with 2 Axes>"
      ]
     },
     "metadata": {
      "needs_background": "light"
     },
     "output_type": "display_data"
    }
   ],
   "source": [
    "for cov in covs:\n",
    "    plt.figure()\n",
    "    r = cov/np.sqrt(np.diag(cov)[:, None]*np.diag(cov)[None, :])\n",
    "    plt.imshow(r)\n",
    "    plt.colorbar()"
   ]
  },
  {
   "cell_type": "markdown",
   "id": "b4813635",
   "metadata": {},
   "source": [
    "# Theoretical Power Spectra (Model)"
   ]
  },
  {
   "cell_type": "code",
   "execution_count": 7,
   "id": "2623f68a",
   "metadata": {},
   "outputs": [],
   "source": [
    "# Sets cosmological model\n",
    "cosmo = ccl.CosmologyVanillaLCDM(transfer_function='eisenstein_hu')"
   ]
  },
  {
   "cell_type": "code",
   "execution_count": 8,
   "id": "901dccf7",
   "metadata": {},
   "outputs": [],
   "source": [
    "# Loads in galaxy redshift distributions into astropy tables\n",
    "gal_z_filenames = sorted(os.listdir(gal_z_dir))\n",
    "\n",
    "gal_z_dist = []\n",
    "for i in gal_z_filenames:\n",
    "    gal_z_dist.append(tbl.Table.read(gal_z_dir + '/' + i, format = 'ascii'))"
   ]
  },
  {
   "cell_type": "code",
   "execution_count": 9,
   "id": "b9cd23d6",
   "metadata": {},
   "outputs": [],
   "source": [
    "# Creates tracer for each galaxy redshift bin\n",
    "gal_tracers = []\n",
    "for i in range(len(gal_z_dist)):\n",
    "    z = np.array(gal_z_dist[i]['col1'])\n",
    "    nz = np.array(gal_z_dist[i]['col2'])\n",
    "    bz = np.full(len(z), bzs[i])\n",
    "    gal_tracers.append(ccl.NumberCountsTracer(cosmo, has_rsd=False, \n",
    "                                              dndz=(z, nz), bias=(z, bz)))"
   ]
  },
  {
   "cell_type": "code",
   "execution_count": 10,
   "id": "67372bc7",
   "metadata": {},
   "outputs": [],
   "source": [
    "# Finds array of radial distances (chi) of radial kernel\n",
    "chi_min = ccl.comoving_radial_distance(cosmo, 1./(1+rker_z_min))\n",
    "chi_max = ccl.comoving_radial_distance(cosmo, 1./(1+rker_z_max))\n",
    "chi_arr = np.linspace(chi_min, chi_max, rker_z_n)\n",
    "\n",
    "# Converts radial distance array to inverse scale factor array (i.e. 1+z)\n",
    "inv_a_arr = 1/ccl.scale_factor_of_chi(cosmo, chi_arr)"
   ]
  },
  {
   "cell_type": "code",
   "execution_count": 11,
   "id": "a6377e25",
   "metadata": {},
   "outputs": [],
   "source": [
    "# Generates neutrino tracer\n",
    "def generate_nu_tracer(cosmo, A, alpha=alpha_val, \n",
    "                       inv_a_arr=inv_a_arr):\n",
    "    # cosmo - cosmological model to use\n",
    "    # A - constant of proportionality in neutrino radial kernel\n",
    "    # alpha - index of power in neutrino radial kernel\n",
    "    # z_min - minimum redshift for neutrino radial kernel\n",
    "    # z_max - maximum redshift for neutrino radial kernel\n",
    "    # nchi - number of redshift/radial distance values in neutrino radial kernel\n",
    "\n",
    "    # Uses chosen A and alpha to find final array of radial kernel\n",
    "    rker_arr = A*(inv_a_arr)**alpha\n",
    "\n",
    "    # Adds radial kernel to tracer\n",
    "    nu_tracer = ccl.Tracer()\n",
    "    nu_tracer.add_tracer(cosmo, kernel = (chi_arr, rker_arr))\n",
    "    return nu_tracer"
   ]
  },
  {
   "cell_type": "code",
   "execution_count": 12,
   "id": "f7008ff0",
   "metadata": {},
   "outputs": [],
   "source": [
    "# Finds theoretical/model power spectra using neutrino radial kernel of the form A*(1+z)^alpha\n",
    "def model(A, alpha=alpha_val):\n",
    "    # A - constant of proportionality in neutrino radial kernel\n",
    "    # alpha - index of power in neutrino radial kernel\n",
    "    \n",
    "    nu_tracer = generate_nu_tracer(cosmo, A, alpha)\n",
    "    cl_cross = []\n",
    "    for i in gal_tracers:\n",
    "        cl_cross += list(ccl.angular_cl(cosmo, nu_tracer, i, ells))\n",
    "    return np.array(cl_cross)"
   ]
  },
  {
   "cell_type": "markdown",
   "id": "04160ccb",
   "metadata": {},
   "source": [
    "# Chi-squared"
   ]
  },
  {
   "cell_type": "code",
   "execution_count": 13,
   "id": "67d9ba7f",
   "metadata": {},
   "outputs": [],
   "source": [
    "# Finds chi squared of given data and model\n",
    "def chi2(p, d, icov, alpha_val=alpha_val):\n",
    "    # p - parameters to use in model\n",
    "    # d - cls of xCell data\n",
    "    # icov - inverse covariance matrix of xCell data\n",
    "    # alpha_val - fixed alpha value\n",
    "    \n",
    "    if len(p) == 2:\n",
    "        A, alpha = p\n",
    "    else:\n",
    "        A = p\n",
    "        alpha = alpha_val\n",
    "    # Flat priors\n",
    "    if np.fabs(alpha) > alpha_prior:\n",
    "        return np.inf\n",
    "    # Finds t and model\n",
    "    t = model(1, alpha)\n",
    "    mod = A*t\n",
    "    # Calculates volume prior\n",
    "    log_vol_prior = 0.5*np.log(np.dot(t, np.dot(icov, t)))\n",
    "    # Calculates chi2\n",
    "    r = (d-mod)\n",
    "    chi2 = np.dot(r, np.dot(icov, r))\n",
    "    \n",
    "    return chi2-2*log_vol_prior"
   ]
  },
  {
   "cell_type": "code",
   "execution_count": 14,
   "id": "2a171f69",
   "metadata": {},
   "outputs": [
    {
     "name": "stdout",
     "output_type": "stream",
     "text": [
      "0 [-67.45124542] 77.9354658776854\n"
     ]
    },
    {
     "data": {
      "image/png": "[encoded data removed]",
      "text/plain": [
       "<Figure size 432x288 with 1 Axes>"
      ]
     },
     "metadata": {
      "needs_background": "light"
     },
     "output_type": "display_data"
    }
   ],
   "source": [
    "# Finds 'best fit' values of A, alpha for each cross-correlation\n",
    "A_BF = np.empty(nEbins)\n",
    "alpha_BF = np.empty(nEbins)\n",
    "\n",
    "for i, (cl, icov, cov) in enumerate(zip(cls, icovs, covs)):\n",
    "    if fixed_alpha:\n",
    "        x = minimize(chi2, [1], args=(cl, icov), method='Powell').x\n",
    "        A_BF[i] = x\n",
    "        alpha_BF[i] = alpha_val\n",
    "    else:\n",
    "        x = minimize(chi2, [1, 1], args=(cl, icov), method='Powell').x\n",
    "        A_BF[i], alpha_BF[i] = x\n",
    "    print(i, x, chi2(x, cl, icov))\n",
    "    plt.figure()\n",
    "    plt.errorbar(np.arange(len(cl)), (cl-model(A_BF[i], alpha_BF[i]))/np.sqrt(np.diag(cov)),\n",
    "                 yerr=np.ones_like(cl), fmt='k.')"
   ]
  },
  {
   "cell_type": "markdown",
   "id": "4a3bebd2",
   "metadata": {},
   "source": [
    "# MCMC"
   ]
  },
  {
   "cell_type": "code",
   "execution_count": 15,
   "id": "1c820726",
   "metadata": {
    "scrolled": true
   },
   "outputs": [
    {
     "name": "stdout",
     "output_type": "stream",
     "text": [
      "emcee: Exception while calling your likelihood function:\n",
      "  params: [-65.1921008]\n",
      "  args: []\n",
      "  kwargs: {}\n",
      "  exception:\n"
     ]
    },
    {
     "name": "stderr",
     "output_type": "stream",
     "text": [
      "Traceback (most recent call last):\n",
      "  File \"/Users/pattersonb/anaconda3/envs/InternshipEnv/lib/python3.9/site-packages/emcee/ensemble.py\", line 624, in __call__\n",
      "    return self.f(x, *self.args, **self.kwargs)\n",
      "  File \"/var/folders/8h/rlzy1c754_j6xtylyk0jhy7h000tgx/T/ipykernel_29247/777475860.py\", line 19, in <lambda>\n",
      "    lambda p: -0.5*chi2(p, cls[i], icovs[i])))\n",
      "  File \"/var/folders/8h/rlzy1c754_j6xtylyk0jhy7h000tgx/T/ipykernel_29247/3957180775.py\", line 17, in chi2\n",
      "    t = model(1, alpha)\n",
      "  File \"/var/folders/8h/rlzy1c754_j6xtylyk0jhy7h000tgx/T/ipykernel_29247/1319216395.py\", line 9, in model\n",
      "    cl_cross += list(ccl.angular_cl(cosmo, nu_tracer, i, ells))\n",
      "  File \"/Users/pattersonb/anaconda3/envs/InternshipEnv/lib/python3.9/site-packages/pyccl/cls.py\", line 79, in angular_cl\n",
      "    cl, status = lib.angular_cl_vec(\n",
      "  File \"/Users/pattersonb/anaconda3/envs/InternshipEnv/lib/python3.9/site-packages/pyccl/ccllib.py\", line 1392, in angular_cl_vec\n",
      "    return _ccllib.angular_cl_vec(cosmo, clt1, clt2, pspec, l_limber, ell, integration_type, nout, status)\n",
      "KeyboardInterrupt\n"
     ]
    },
    {
     "ename": "KeyboardInterrupt",
     "evalue": "",
     "output_type": "error",
     "traceback": [
      "\u001b[0;31m---------------------------------------------------------------------------\u001b[0m",
      "\u001b[0;31mKeyboardInterrupt\u001b[0m                         Traceback (most recent call last)",
      "Input \u001b[0;32mIn [15]\u001b[0m, in \u001b[0;36m<cell line: 1>\u001b[0;34m()\u001b[0m\n\u001b[1;32m     18\u001b[0m sampler\u001b[38;5;241m.\u001b[39mappend(emcee\u001b[38;5;241m.\u001b[39mEnsembleSampler(nwalkers, npars, \n\u001b[1;32m     19\u001b[0m                                      \u001b[38;5;28;01mlambda\u001b[39;00m p: \u001b[38;5;241m-\u001b[39m\u001b[38;5;241m0.5\u001b[39m\u001b[38;5;241m*\u001b[39mchi2(p, \u001b[38;5;28mcls\u001b[39m[i], icovs[i])))\n\u001b[1;32m     21\u001b[0m \u001b[38;5;66;03m# Runs MCMC and gets resulting chain (discarding first 20%, 'burn in' phase)\u001b[39;00m\n\u001b[0;32m---> 22\u001b[0m \u001b[43msampler\u001b[49m\u001b[43m[\u001b[49m\u001b[43mi\u001b[49m\u001b[43m]\u001b[49m\u001b[38;5;241;43m.\u001b[39;49m\u001b[43mrun_mcmc\u001b[49m\u001b[43m(\u001b[49m\u001b[43mpos\u001b[49m\u001b[43m,\u001b[49m\u001b[43m \u001b[49m\u001b[43mnsamples\u001b[49m\u001b[43m)\u001b[49m\n\u001b[1;32m     23\u001b[0m chain\u001b[38;5;241m.\u001b[39mappend(sampler[i]\u001b[38;5;241m.\u001b[39mget_chain(flat\u001b[38;5;241m=\u001b[39m\u001b[38;5;28;01mTrue\u001b[39;00m, discard\u001b[38;5;241m=\u001b[39m\u001b[38;5;28mint\u001b[39m(\u001b[38;5;241m0.2\u001b[39m\u001b[38;5;241m*\u001b[39mnsamples))\u001b[38;5;241m.\u001b[39mT)\n\u001b[1;32m     24\u001b[0m \u001b[38;5;28mprint\u001b[39m(i)\n",
      "File \u001b[0;32m~/anaconda3/envs/InternshipEnv/lib/python3.9/site-packages/emcee/ensemble.py:443\u001b[0m, in \u001b[0;36mEnsembleSampler.run_mcmc\u001b[0;34m(self, initial_state, nsteps, **kwargs)\u001b[0m\n\u001b[1;32m    440\u001b[0m     initial_state \u001b[38;5;241m=\u001b[39m \u001b[38;5;28mself\u001b[39m\u001b[38;5;241m.\u001b[39m_previous_state\n\u001b[1;32m    442\u001b[0m results \u001b[38;5;241m=\u001b[39m \u001b[38;5;28;01mNone\u001b[39;00m\n\u001b[0;32m--> 443\u001b[0m \u001b[38;5;28;01mfor\u001b[39;00m results \u001b[38;5;129;01min\u001b[39;00m \u001b[38;5;28mself\u001b[39m\u001b[38;5;241m.\u001b[39msample(initial_state, iterations\u001b[38;5;241m=\u001b[39mnsteps, \u001b[38;5;241m*\u001b[39m\u001b[38;5;241m*\u001b[39mkwargs):\n\u001b[1;32m    444\u001b[0m     \u001b[38;5;28;01mpass\u001b[39;00m\n\u001b[1;32m    446\u001b[0m \u001b[38;5;66;03m# Store so that the ``initial_state=None`` case will work\u001b[39;00m\n",
      "File \u001b[0;32m~/anaconda3/envs/InternshipEnv/lib/python3.9/site-packages/emcee/ensemble.py:402\u001b[0m, in \u001b[0;36mEnsembleSampler.sample\u001b[0;34m(self, initial_state, log_prob0, rstate0, blobs0, iterations, tune, skip_initial_state_check, thin_by, thin, store, progress, progress_kwargs)\u001b[0m\n\u001b[1;32m    399\u001b[0m move \u001b[38;5;241m=\u001b[39m \u001b[38;5;28mself\u001b[39m\u001b[38;5;241m.\u001b[39m_random\u001b[38;5;241m.\u001b[39mchoice(\u001b[38;5;28mself\u001b[39m\u001b[38;5;241m.\u001b[39m_moves, p\u001b[38;5;241m=\u001b[39m\u001b[38;5;28mself\u001b[39m\u001b[38;5;241m.\u001b[39m_weights)\n\u001b[1;32m    401\u001b[0m \u001b[38;5;66;03m# Propose\u001b[39;00m\n\u001b[0;32m--> 402\u001b[0m state, accepted \u001b[38;5;241m=\u001b[39m \u001b[43mmove\u001b[49m\u001b[38;5;241;43m.\u001b[39;49m\u001b[43mpropose\u001b[49m\u001b[43m(\u001b[49m\u001b[43mmodel\u001b[49m\u001b[43m,\u001b[49m\u001b[43m \u001b[49m\u001b[43mstate\u001b[49m\u001b[43m)\u001b[49m\n\u001b[1;32m    403\u001b[0m state\u001b[38;5;241m.\u001b[39mrandom_state \u001b[38;5;241m=\u001b[39m \u001b[38;5;28mself\u001b[39m\u001b[38;5;241m.\u001b[39mrandom_state\n\u001b[1;32m    405\u001b[0m \u001b[38;5;28;01mif\u001b[39;00m tune:\n",
      "File \u001b[0;32m~/anaconda3/envs/InternshipEnv/lib/python3.9/site-packages/emcee/moves/red_blue.py:93\u001b[0m, in \u001b[0;36mRedBlueMove.propose\u001b[0;34m(self, model, state)\u001b[0m\n\u001b[1;32m     90\u001b[0m q, factors \u001b[38;5;241m=\u001b[39m \u001b[38;5;28mself\u001b[39m\u001b[38;5;241m.\u001b[39mget_proposal(s, c, model\u001b[38;5;241m.\u001b[39mrandom)\n\u001b[1;32m     92\u001b[0m \u001b[38;5;66;03m# Compute the lnprobs of the proposed position.\u001b[39;00m\n\u001b[0;32m---> 93\u001b[0m new_log_probs, new_blobs \u001b[38;5;241m=\u001b[39m \u001b[43mmodel\u001b[49m\u001b[38;5;241;43m.\u001b[39;49m\u001b[43mcompute_log_prob_fn\u001b[49m\u001b[43m(\u001b[49m\u001b[43mq\u001b[49m\u001b[43m)\u001b[49m\n\u001b[1;32m     95\u001b[0m \u001b[38;5;66;03m# Loop over the walkers and update them accordingly.\u001b[39;00m\n\u001b[1;32m     96\u001b[0m \u001b[38;5;28;01mfor\u001b[39;00m i, (j, f, nlp) \u001b[38;5;129;01min\u001b[39;00m \u001b[38;5;28menumerate\u001b[39m(\n\u001b[1;32m     97\u001b[0m     \u001b[38;5;28mzip\u001b[39m(all_inds[S1], factors, new_log_probs)\n\u001b[1;32m     98\u001b[0m ):\n",
      "File \u001b[0;32m~/anaconda3/envs/InternshipEnv/lib/python3.9/site-packages/emcee/ensemble.py:489\u001b[0m, in \u001b[0;36mEnsembleSampler.compute_log_prob\u001b[0;34m(self, coords)\u001b[0m\n\u001b[1;32m    487\u001b[0m     \u001b[38;5;28;01melse\u001b[39;00m:\n\u001b[1;32m    488\u001b[0m         map_func \u001b[38;5;241m=\u001b[39m \u001b[38;5;28mmap\u001b[39m\n\u001b[0;32m--> 489\u001b[0m     results \u001b[38;5;241m=\u001b[39m \u001b[38;5;28;43mlist\u001b[39;49m\u001b[43m(\u001b[49m\u001b[43mmap_func\u001b[49m\u001b[43m(\u001b[49m\u001b[38;5;28;43mself\u001b[39;49m\u001b[38;5;241;43m.\u001b[39;49m\u001b[43mlog_prob_fn\u001b[49m\u001b[43m,\u001b[49m\u001b[43m \u001b[49m\u001b[43mp\u001b[49m\u001b[43m)\u001b[49m\u001b[43m)\u001b[49m\n\u001b[1;32m    491\u001b[0m \u001b[38;5;28;01mtry\u001b[39;00m:\n\u001b[1;32m    492\u001b[0m     log_prob \u001b[38;5;241m=\u001b[39m np\u001b[38;5;241m.\u001b[39marray([\u001b[38;5;28mfloat\u001b[39m(l[\u001b[38;5;241m0\u001b[39m]) \u001b[38;5;28;01mfor\u001b[39;00m l \u001b[38;5;129;01min\u001b[39;00m results])\n",
      "File \u001b[0;32m~/anaconda3/envs/InternshipEnv/lib/python3.9/site-packages/emcee/ensemble.py:624\u001b[0m, in \u001b[0;36m_FunctionWrapper.__call__\u001b[0;34m(self, x)\u001b[0m\n\u001b[1;32m    622\u001b[0m \u001b[38;5;28;01mdef\u001b[39;00m \u001b[38;5;21m__call__\u001b[39m(\u001b[38;5;28mself\u001b[39m, x):\n\u001b[1;32m    623\u001b[0m     \u001b[38;5;28;01mtry\u001b[39;00m:\n\u001b[0;32m--> 624\u001b[0m         \u001b[38;5;28;01mreturn\u001b[39;00m \u001b[38;5;28;43mself\u001b[39;49m\u001b[38;5;241;43m.\u001b[39;49m\u001b[43mf\u001b[49m\u001b[43m(\u001b[49m\u001b[43mx\u001b[49m\u001b[43m,\u001b[49m\u001b[43m \u001b[49m\u001b[38;5;241;43m*\u001b[39;49m\u001b[38;5;28;43mself\u001b[39;49m\u001b[38;5;241;43m.\u001b[39;49m\u001b[43margs\u001b[49m\u001b[43m,\u001b[49m\u001b[43m \u001b[49m\u001b[38;5;241;43m*\u001b[39;49m\u001b[38;5;241;43m*\u001b[39;49m\u001b[38;5;28;43mself\u001b[39;49m\u001b[38;5;241;43m.\u001b[39;49m\u001b[43mkwargs\u001b[49m\u001b[43m)\u001b[49m\n\u001b[1;32m    625\u001b[0m     \u001b[38;5;28;01mexcept\u001b[39;00m:  \u001b[38;5;66;03m# pragma: no cover\u001b[39;00m\n\u001b[1;32m    626\u001b[0m         \u001b[38;5;28;01mimport\u001b[39;00m \u001b[38;5;21;01mtraceback\u001b[39;00m\n",
      "Input \u001b[0;32mIn [15]\u001b[0m, in \u001b[0;36m<lambda>\u001b[0;34m(p)\u001b[0m\n\u001b[1;32m     14\u001b[0m     pos \u001b[38;5;241m=\u001b[39m ([A_BF[i], alpha_BF[i]] \u001b[38;5;241m+\u001b[39m\n\u001b[1;32m     15\u001b[0m            (\u001b[38;5;241m1e-9\u001b[39m, \u001b[38;5;241m1e-4\u001b[39m) \u001b[38;5;241m*\u001b[39m np\u001b[38;5;241m.\u001b[39mrandom\u001b[38;5;241m.\u001b[39mrandn(nwalkers, npars))\n\u001b[1;32m     17\u001b[0m \u001b[38;5;66;03m# Creates MCMC sampler\u001b[39;00m\n\u001b[1;32m     18\u001b[0m sampler\u001b[38;5;241m.\u001b[39mappend(emcee\u001b[38;5;241m.\u001b[39mEnsembleSampler(nwalkers, npars, \n\u001b[0;32m---> 19\u001b[0m                                      \u001b[38;5;28;01mlambda\u001b[39;00m p: \u001b[38;5;241m-\u001b[39m\u001b[38;5;241m0.5\u001b[39m\u001b[38;5;241m*\u001b[39m\u001b[43mchi2\u001b[49m\u001b[43m(\u001b[49m\u001b[43mp\u001b[49m\u001b[43m,\u001b[49m\u001b[43m \u001b[49m\u001b[38;5;28;43mcls\u001b[39;49m\u001b[43m[\u001b[49m\u001b[43mi\u001b[49m\u001b[43m]\u001b[49m\u001b[43m,\u001b[49m\u001b[43m \u001b[49m\u001b[43micovs\u001b[49m\u001b[43m[\u001b[49m\u001b[43mi\u001b[49m\u001b[43m]\u001b[49m\u001b[43m)\u001b[49m))\n\u001b[1;32m     21\u001b[0m \u001b[38;5;66;03m# Runs MCMC and gets resulting chain (discarding first 20%, 'burn in' phase)\u001b[39;00m\n\u001b[1;32m     22\u001b[0m sampler[i]\u001b[38;5;241m.\u001b[39mrun_mcmc(pos, nsamples)\n",
      "Input \u001b[0;32mIn [13]\u001b[0m, in \u001b[0;36mchi2\u001b[0;34m(p, d, icov, alpha_val)\u001b[0m\n\u001b[1;32m     15\u001b[0m     \u001b[38;5;28;01mreturn\u001b[39;00m np\u001b[38;5;241m.\u001b[39minf\n\u001b[1;32m     16\u001b[0m \u001b[38;5;66;03m# Finds t and model\u001b[39;00m\n\u001b[0;32m---> 17\u001b[0m t \u001b[38;5;241m=\u001b[39m \u001b[43mmodel\u001b[49m\u001b[43m(\u001b[49m\u001b[38;5;241;43m1\u001b[39;49m\u001b[43m,\u001b[49m\u001b[43m \u001b[49m\u001b[43malpha\u001b[49m\u001b[43m)\u001b[49m\n\u001b[1;32m     18\u001b[0m mod \u001b[38;5;241m=\u001b[39m A\u001b[38;5;241m*\u001b[39mt\n\u001b[1;32m     19\u001b[0m \u001b[38;5;66;03m# Calculates volume prior\u001b[39;00m\n",
      "Input \u001b[0;32mIn [12]\u001b[0m, in \u001b[0;36mmodel\u001b[0;34m(A, alpha)\u001b[0m\n\u001b[1;32m      7\u001b[0m cl_cross \u001b[38;5;241m=\u001b[39m []\n\u001b[1;32m      8\u001b[0m \u001b[38;5;28;01mfor\u001b[39;00m i \u001b[38;5;129;01min\u001b[39;00m gal_tracers:\n\u001b[0;32m----> 9\u001b[0m     cl_cross \u001b[38;5;241m+\u001b[39m\u001b[38;5;241m=\u001b[39m \u001b[38;5;28mlist\u001b[39m(\u001b[43mccl\u001b[49m\u001b[38;5;241;43m.\u001b[39;49m\u001b[43mangular_cl\u001b[49m\u001b[43m(\u001b[49m\u001b[43mcosmo\u001b[49m\u001b[43m,\u001b[49m\u001b[43m \u001b[49m\u001b[43mnu_tracer\u001b[49m\u001b[43m,\u001b[49m\u001b[43m \u001b[49m\u001b[43mi\u001b[49m\u001b[43m,\u001b[49m\u001b[43m \u001b[49m\u001b[43mells\u001b[49m\u001b[43m)\u001b[49m)\n\u001b[1;32m     10\u001b[0m \u001b[38;5;28;01mreturn\u001b[39;00m np\u001b[38;5;241m.\u001b[39marray(cl_cross)\n",
      "File \u001b[0;32m~/anaconda3/envs/InternshipEnv/lib/python3.9/site-packages/pyccl/cls.py:79\u001b[0m, in \u001b[0;36mangular_cl\u001b[0;34m(cosmo, cltracer1, cltracer2, ell, p_of_k_a, l_limber, limber_integration_method)\u001b[0m\n\u001b[1;32m     76\u001b[0m     \u001b[38;5;28;01mraise\u001b[39;00m \u001b[38;5;167;01mValueError\u001b[39;00m(\u001b[38;5;124m\"\u001b[39m\u001b[38;5;124mell values must be monotonically increasing\u001b[39m\u001b[38;5;124m\"\u001b[39m)\n\u001b[1;32m     78\u001b[0m \u001b[38;5;66;03m# Return Cl values, according to whether ell is an array or not\u001b[39;00m\n\u001b[0;32m---> 79\u001b[0m cl, status \u001b[38;5;241m=\u001b[39m \u001b[43mlib\u001b[49m\u001b[38;5;241;43m.\u001b[39;49m\u001b[43mangular_cl_vec\u001b[49m\u001b[43m(\u001b[49m\n\u001b[1;32m     80\u001b[0m \u001b[43m    \u001b[49m\u001b[43mcosmo\u001b[49m\u001b[43m,\u001b[49m\u001b[43m \u001b[49m\u001b[43mclt1\u001b[49m\u001b[43m,\u001b[49m\u001b[43m \u001b[49m\u001b[43mclt2\u001b[49m\u001b[43m,\u001b[49m\u001b[43m \u001b[49m\u001b[43mpsp\u001b[49m\u001b[43m,\u001b[49m\u001b[43m \u001b[49m\u001b[43ml_limber\u001b[49m\u001b[43m,\u001b[49m\n\u001b[1;32m     81\u001b[0m \u001b[43m    \u001b[49m\u001b[43mell_use\u001b[49m\u001b[43m,\u001b[49m\u001b[43m \u001b[49m\u001b[43minteg_types\u001b[49m\u001b[43m[\u001b[49m\u001b[43mlimber_integration_method\u001b[49m\u001b[43m]\u001b[49m\u001b[43m,\u001b[49m\n\u001b[1;32m     82\u001b[0m \u001b[43m    \u001b[49m\u001b[43mell_use\u001b[49m\u001b[38;5;241;43m.\u001b[39;49m\u001b[43msize\u001b[49m\u001b[43m,\u001b[49m\u001b[43m \u001b[49m\u001b[43mstatus\u001b[49m\u001b[43m)\u001b[49m\n\u001b[1;32m     83\u001b[0m \u001b[38;5;28;01mif\u001b[39;00m np\u001b[38;5;241m.\u001b[39mndim(ell) \u001b[38;5;241m==\u001b[39m \u001b[38;5;241m0\u001b[39m:\n\u001b[1;32m     84\u001b[0m     cl \u001b[38;5;241m=\u001b[39m cl[\u001b[38;5;241m0\u001b[39m]\n",
      "File \u001b[0;32m~/anaconda3/envs/InternshipEnv/lib/python3.9/site-packages/pyccl/ccllib.py:1392\u001b[0m, in \u001b[0;36mangular_cl_vec\u001b[0;34m(cosmo, clt1, clt2, pspec, l_limber, ell, integration_type, nout, status)\u001b[0m\n\u001b[1;32m   1388\u001b[0m \u001b[38;5;28;01mif\u001b[39;00m numpy\u001b[38;5;241m.\u001b[39mshape(ell) \u001b[38;5;241m!=\u001b[39m (nout,):\n\u001b[1;32m   1389\u001b[0m     \u001b[38;5;28;01mraise\u001b[39;00m CCLError(\u001b[38;5;124m\"\u001b[39m\u001b[38;5;124mInput shape for `ell` must match `(nout,)`!\u001b[39m\u001b[38;5;124m\"\u001b[39m)\n\u001b[0;32m-> 1392\u001b[0m \u001b[38;5;28;01mreturn\u001b[39;00m \u001b[43m_ccllib\u001b[49m\u001b[38;5;241;43m.\u001b[39;49m\u001b[43mangular_cl_vec\u001b[49m\u001b[43m(\u001b[49m\u001b[43mcosmo\u001b[49m\u001b[43m,\u001b[49m\u001b[43m \u001b[49m\u001b[43mclt1\u001b[49m\u001b[43m,\u001b[49m\u001b[43m \u001b[49m\u001b[43mclt2\u001b[49m\u001b[43m,\u001b[49m\u001b[43m \u001b[49m\u001b[43mpspec\u001b[49m\u001b[43m,\u001b[49m\u001b[43m \u001b[49m\u001b[43ml_limber\u001b[49m\u001b[43m,\u001b[49m\u001b[43m \u001b[49m\u001b[43mell\u001b[49m\u001b[43m,\u001b[49m\u001b[43m \u001b[49m\u001b[43mintegration_type\u001b[49m\u001b[43m,\u001b[49m\u001b[43m \u001b[49m\u001b[43mnout\u001b[49m\u001b[43m,\u001b[49m\u001b[43m \u001b[49m\u001b[43mstatus\u001b[49m\u001b[43m)\u001b[49m\n",
      "\u001b[0;31mKeyboardInterrupt\u001b[0m: "
     ]
    }
   ],
   "source": [
    "if run_mcmc:\n",
    "    sampler = []\n",
    "    chain = []\n",
    "    \n",
    "    # For each cross-correlation\n",
    "    for i in range(nEbins):\n",
    "            \n",
    "        if fixed_alpha:\n",
    "            # Starting position of MCMC walkers\n",
    "            pos = (A_BF[i] +\n",
    "                   (1e-9) * np.random.randn(nwalkers, npars))\n",
    "        else:\n",
    "            # Starting position of MCMC walkers\n",
    "            pos = ([A_BF[i], alpha_BF[i]] +\n",
    "                   (1e-9, 1e-4) * np.random.randn(nwalkers, npars))\n",
    "\n",
    "        # Creates MCMC sampler\n",
    "        sampler.append(emcee.EnsembleSampler(nwalkers, npars, \n",
    "                                             lambda p: -0.5*chi2(p, cls[i], icovs[i])))\n",
    "\n",
    "        # Runs MCMC and gets resulting chain (discarding first 20%, 'burn in' phase)\n",
    "        sampler[i].run_mcmc(pos, nsamples)\n",
    "        chain.append(sampler[i].get_chain(flat=True, discard=int(0.2*nsamples)).T)\n",
    "        print(i)\n",
    "    \n",
    "    # Saves chains in pickle format\n",
    "    with open(mcmc_chain_dir + '/MCMCChains', 'wb') as fp:\n",
    "        pickle.dump(chain, fp)\n",
    "\n",
    "else:\n",
    "    # Loads chains from disk\n",
    "    with open(mcmc_chain_dir + '/MCMCChains', 'rb') as fp:\n",
    "        chain = pickle.load(fp)"
   ]
  },
  {
   "cell_type": "markdown",
   "id": "ab0f439e",
   "metadata": {},
   "source": [
    "# Plots"
   ]
  },
  {
   "cell_type": "code",
   "execution_count": null,
   "id": "8e181561",
   "metadata": {},
   "outputs": [],
   "source": [
    "# Creates grid of subfigures\n",
    "fig, axs = plt.subplots(nEbins, figsize = (6.4, 4.8*nEbins))\n",
    "\n",
    "# Calculates chains and plots 2D histogram\n",
    "for i in range(nEbins):\n",
    "    if fixed_alpha:\n",
    "        axs[i].hist(chain[i][0], bins=100, density=True)\n",
    "        axs[i].set_xlabel(r'$A$', fontsize=20);\n",
    "    else:\n",
    "        axs[i].scatter(chain[i][0], chain[i][1], c='k', s=1, alpha=0.1)\n",
    "        axs[i].plot(A_BF[i], alpha_BF[i], 'yo', label='Best fit')\n",
    "        axs[i].set_title(f'Energy bin {i}')\n",
    "        axs[i].set_ylabel(r'$\\alpha$', fontsize=20)\n",
    "        axs[i].set_xlabel(r'$A$', fontsize=20)\n",
    "        axs[i].legend()\n",
    "\n",
    "if fixed_alpha:\n",
    "    plt.savefig(mcmc_plots_dir + f'/fixed_alpha/MCMC1DHistogramfa{alpha_val}.pdf')\n",
    "else:\n",
    "    plt.savefig(mcmc_plots_dir + f'/MCMC2DHistogramAP{alpha_prior}.png')"
   ]
  },
  {
   "cell_type": "code",
   "execution_count": null,
   "id": "89344dfb",
   "metadata": {},
   "outputs": [],
   "source": [
    "# Plots corner plots for each cross-correlation\n",
    "for i in range(nEbins):\n",
    "    corner.corner(chain[i].T, labels=['A','alpha'], quantiles=[0.16,0.5,0.84], \n",
    "                  show_titles=True, title_kwargs={'fontsize': 12}, title_fmt='.6f')\n",
    "    if fixed_alpha:\n",
    "        plt.savefig(mcmc_plots_dir + f'/fixed_alpha/MCMCCornerfa{alpha_val}E{i}.pdf')\n",
    "    else:\n",
    "        plt.savefig(mcmc_plots_dir + f'/MCMCCornerAP{alpha_prior}E{i}.pdf') \n",
    "    plt.show()"
   ]
  },
  {
   "cell_type": "markdown",
   "id": "b1231a4e",
   "metadata": {},
   "source": [
    "# Single Cross-correlation Tests"
   ]
  },
  {
   "cell_type": "code",
   "execution_count": null,
   "id": "db52f410",
   "metadata": {},
   "outputs": [],
   "source": [
    "if perform_sing_test:\n",
    "    # Finds chi squared with priors baked in\n",
    "    def sing_chi2_with_prior(p, ells, d, icov, gal_tracer):\n",
    "        # p - parameters to use in model\n",
    "        # ells - l values to calculate cls for\n",
    "        # d - cls of xCell data\n",
    "        # icov - inverse covariance matrix of xCell data\n",
    "        # gal_tracer - galaxy tracer to use (i.e. which redshift bin)\n",
    "\n",
    "        # Only return non inf when mod(A) <= 0.1 and mod(alpha) <= 10\n",
    "        if (np.fabs(p[0]) > sing_A_prior) or (np.fabs(p[1]) > sing_alpha_prior):\n",
    "            return np.inf\n",
    "        return chi2(p, ells, d, icov, gal_tracer)"
   ]
  },
  {
   "cell_type": "code",
   "execution_count": null,
   "id": "9c891491",
   "metadata": {
    "code_folding": []
   },
   "outputs": [],
   "source": [
    "if perform_sing_test:\n",
    "    # Starting position of walkers\n",
    "    sing_pos = ([A_BF[sing_test[0], sing_test[1]], alpha_BF[sing_test[0], sing_test[1]]] +\n",
    "                       0.001 * np.random.randn(nwalkers, npars))\n",
    "\n",
    "    # Creates sampler\n",
    "    sing_sampler = emcee.EnsembleSampler(nwalkers, npars, \n",
    "                                         lambda p: -0.5*sing_chi2_with_prior(p, xcell_l[sing_test[0], sing_test[1]], \n",
    "                                                                                xcell_cl[sing_test[0], sing_test[1]], \n",
    "                                                                                xcell_icov[sing_test[0], sing_test[1]],\n",
    "                                                                                gal_tracers[sing_test[1]]))\n",
    "\n",
    "    # Runs MCMC and gets resulting chain (discarding first 20%, 'burn in' phase)\n",
    "    sing_sampler.run_mcmc(sing_pos, nsamples)\n",
    "    sing_chain = sing_sampler.get_chain(flat=True, discard=int(0.2*nsamples)).T\n"
   ]
  },
  {
   "cell_type": "code",
   "execution_count": null,
   "id": "22de8dcf",
   "metadata": {},
   "outputs": [],
   "source": [
    "if perform_sing_test:\n",
    "    # Plots 2D histogram and corner plot\n",
    "    plt.scatter(sing_chain[0], sing_chain[1], c='k', s=1, alpha=0.1)\n",
    "    plt.plot(A_BF[sing_test[0], sing_test[1]], alpha_BF[sing_test[0], sing_test[1]], 'yo', label='Best fit')\n",
    "    plt.title(f'Energy bin {sing_test[0]}, redshift bin {sing_test[1]}')\n",
    "    plt.ylabel(r'$\\alpha$', fontsize=20)\n",
    "    plt.xlabel(r'$A$', fontsize=20)\n",
    "    plt.legend()\n",
    "    plt.savefig(MCMCPlots + '/MCMCSing2DHist.pdf')\n",
    "    plt.show()\n",
    "\n",
    "    corner.corner(sing_chain.T, labels=['A','alpha'], quantiles=[0.16,0.5,0.84], \n",
    "                  show_titles=True, title_kwargs={'fontsize': 12}, title_fmt='.6f')\n",
    "    plt.savefig(mcmc_plots_dir + '/MCMCSingCorner.pdf')\n",
    "    plt.show()"
   ]
  },
  {
   "cell_type": "code",
   "execution_count": null,
   "id": "8cc924a7",
   "metadata": {},
   "outputs": [],
   "source": []
  }
 ],
 "metadata": {
  "kernelspec": {
   "display_name": "Python 3 (ipykernel)",
   "language": "python",
   "name": "python3"
  },
  "language_info": {
   "codemirror_mode": {
    "name": "ipython",
    "version": 3
   },
   "file_extension": ".py",
   "mimetype": "text/x-python",
   "name": "python",
   "nbconvert_exporter": "python",
   "pygments_lexer": "ipython3",
   "version": "3.9.12"
  }
 },
 "nbformat": 4,
 "nbformat_minor": 5
}
